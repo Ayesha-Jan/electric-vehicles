{
 "cells": [
  {
   "cell_type": "code",
   "execution_count": null,
   "id": "16268799-317a-485d-8b3e-266f9bcb61a0",
   "metadata": {},
   "outputs": [],
   "source": [
    "import pandas as pd\n",
    "import numpy as np"
   ]
  },
  {
   "cell_type": "code",
   "execution_count": null,
   "id": "7fd9e5c9-9608-4c32-9819-d96f62e0772c",
   "metadata": {},
   "outputs": [],
   "source": [
    "# Dataset 1 (EVs)\n",
    "ev_df = pd.read_csv(\"data/ev_sales.csv\")\n",
    "\n",
    "# Dataset 2 (Energy & Emissions)\n",
    "energy_df = pd.read_csv(\"data/energy_emissions.csv\")\n",
    "\n",
    "ev_df.head()\n"
   ]
  },
  {
   "cell_type": "code",
   "execution_count": null,
   "id": "f08ab99b-8574-4c72-be5d-2dd985a5a0b9",
   "metadata": {},
   "outputs": [],
   "source": [
    "energy_df.head()"
   ]
  },
  {
   "cell_type": "code",
   "execution_count": null,
   "id": "6355e9c1-dc3a-4ce3-9bce-af9ae64bd8f8",
   "metadata": {},
   "outputs": [],
   "source": [
    "print(ev_df.isna().sum())"
   ]
  },
  {
   "cell_type": "code",
   "execution_count": null,
   "id": "ecff4ce3-9065-4da4-a9bd-28096bcd9ed8",
   "metadata": {},
   "outputs": [],
   "source": [
    "print(energy_df.isna().sum())"
   ]
  },
  {
   "cell_type": "code",
   "execution_count": null,
   "id": "b979752a-5998-4667-a741-c96b3b87d5ce",
   "metadata": {},
   "outputs": [],
   "source": [
    "# Ensure Year is integer\n",
    "ev_df[\"Year\"] = ev_df[\"Year\"].astype(int)\n",
    "energy_df[\"Year\"] = energy_df[\"Year\"].astype(int)"
   ]
  },
  {
   "cell_type": "code",
   "execution_count": null,
   "id": "febbb826-88b2-4b4b-948d-2699f0c7f598",
   "metadata": {},
   "outputs": [],
   "source": [
    "# Convert numeric columns to float\n",
    "numeric_cols = energy_df.columns.drop([\"country\",\"Region\"])\n",
    "energy_df[numeric_cols] = energy_df[numeric_cols].apply(pd.to_numeric, errors=\"coerce\")"
   ]
  },
  {
   "cell_type": "code",
   "execution_count": null,
   "id": "0b0c3ef3-3a0a-480b-b8cf-b4d883c55bdd",
   "metadata": {},
   "outputs": [],
   "source": [
    "common_years = ev_df['Year'].isin(energy_df['Year'])\n",
    "ev_df = ev_df[common_years]\n",
    "energy_df = energy_df[energy_df['Year'].isin(ev_df['Year'])]"
   ]
  },
  {
   "cell_type": "code",
   "execution_count": null,
   "id": "5565a54a-2f09-445b-9dca-ce44ac798d36",
   "metadata": {},
   "outputs": [],
   "source": [
    "energy_df[\"Total energy consumption (EJ)\"] = energy_df[\"Total energy consumption (Mtoe)\"] * 0.041868"
   ]
  },
  {
   "cell_type": "code",
   "execution_count": null,
   "id": "fb6d0ec3-5dab-4ad2-94f4-4e322b3efa92",
   "metadata": {},
   "outputs": [],
   "source": [
    "energy_df[\"Carbon Intensity (MtCO2 per EJ)\"] = (\n",
    "    energy_df[\"CO2 emissions from fuel combustion (MtCO2)\"] /\n",
    "    energy_df[\"Total energy consumption (EJ)\"]\n",
    ")\n",
    "\n",
    "energy_df[\"Clean electricity share (%)\"] = energy_df[\"Share of renewables in electricity production (%)\"] + energy_df[\"Share of wind and solar in electricity production (%)\"]"
   ]
  },
  {
   "cell_type": "code",
   "execution_count": null,
   "id": "ea9a8365-410b-49ec-8f4a-2914fcab1e37",
   "metadata": {},
   "outputs": [],
   "source": [
    "#Rename columns to align\n",
    "ev_df = ev_df.rename(columns={\"Entity\": \"country\"})"
   ]
  },
  {
   "cell_type": "code",
   "execution_count": null,
   "id": "b5818bdf-497f-4f8f-870c-9a5c54919f56",
   "metadata": {},
   "outputs": [],
   "source": [
    "#Merge\n",
    "master_df = pd.merge(ev_df, energy_df, on=[\"country\", \"Year\"], how=\"inner\")"
   ]
  },
  {
   "cell_type": "code",
   "execution_count": null,
   "id": "af6fde2c-4459-418e-8c7f-f2ee6006c2b1",
   "metadata": {},
   "outputs": [],
   "source": [
    "print(master_df.head())\n",
    "print(master_df.shape)"
   ]
  },
  {
   "cell_type": "code",
   "execution_count": null,
   "id": "b7374046-5823-4b5a-bf0c-3e74a5134d2f",
   "metadata": {},
   "outputs": [],
   "source": [
    "master_df.to_csv(\"clean_master2.csv\", index=False)\n"
   ]
  },
  {
   "cell_type": "code",
   "execution_count": null,
   "id": "84e82d98-0c2d-4b4d-bdb1-b717e80557d2",
   "metadata": {},
   "outputs": [],
   "source": []
  }
 ],
 "metadata": {
  "kernelspec": {
   "display_name": "Python 3 (ipykernel)",
   "language": "python",
   "name": "python3"
  },
  "language_info": {
   "codemirror_mode": {
    "name": "ipython",
    "version": 3
   },
   "file_extension": ".py",
   "mimetype": "text/x-python",
   "name": "python",
   "nbconvert_exporter": "python",
   "pygments_lexer": "ipython3",
   "version": "3.12.2"
  }
 },
 "nbformat": 4,
 "nbformat_minor": 5
}
